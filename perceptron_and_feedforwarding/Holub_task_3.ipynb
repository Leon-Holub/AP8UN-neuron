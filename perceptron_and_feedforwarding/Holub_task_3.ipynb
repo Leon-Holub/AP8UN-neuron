{
 "cells": [
  {
   "cell_type": "markdown",
   "metadata": {
    "id": "KaKvxTNG19jB"
   },
   "source": [
    "The detailed Perceptron mechanisms see in assignment 2 this course and assignment we're going to use existing frameworks to impliment the perceptron and feedforward neural networks."
   ]
  },
  {
   "cell_type": "markdown",
   "metadata": {
    "id": "-CTJ9bgf2pzI"
   },
   "source": [
    "sklearn and iris dataset--the small and classic dataset for machine learning, shows the basic of the a dataset has--features, labels and samples"
   ]
  },
  {
   "cell_type": "code",
   "metadata": {
    "colab": {
     "base_uri": "https://localhost:8080/"
    },
    "id": "vExLG4Da1oQ6",
    "outputId": "205c55bb-690f-4c3b-e414-4617b50896e6",
    "ExecuteTime": {
     "end_time": "2025-03-27T08:25:13.557598Z",
     "start_time": "2025-03-27T08:25:13.526232Z"
    }
   },
   "source": [
    "from sklearn.datasets import load_iris\n",
    "iris=load_iris()\n",
    "print(iris.data.shape)\n",
    "iris"
   ],
   "outputs": [
    {
     "name": "stdout",
     "output_type": "stream",
     "text": [
      "(150, 4)\n"
     ]
    },
    {
     "data": {
      "text/plain": [
       "{'data': array([[5.1, 3.5, 1.4, 0.2],\n",
       "        [4.9, 3. , 1.4, 0.2],\n",
       "        [4.7, 3.2, 1.3, 0.2],\n",
       "        [4.6, 3.1, 1.5, 0.2],\n",
       "        [5. , 3.6, 1.4, 0.2],\n",
       "        [5.4, 3.9, 1.7, 0.4],\n",
       "        [4.6, 3.4, 1.4, 0.3],\n",
       "        [5. , 3.4, 1.5, 0.2],\n",
       "        [4.4, 2.9, 1.4, 0.2],\n",
       "        [4.9, 3.1, 1.5, 0.1],\n",
       "        [5.4, 3.7, 1.5, 0.2],\n",
       "        [4.8, 3.4, 1.6, 0.2],\n",
       "        [4.8, 3. , 1.4, 0.1],\n",
       "        [4.3, 3. , 1.1, 0.1],\n",
       "        [5.8, 4. , 1.2, 0.2],\n",
       "        [5.7, 4.4, 1.5, 0.4],\n",
       "        [5.4, 3.9, 1.3, 0.4],\n",
       "        [5.1, 3.5, 1.4, 0.3],\n",
       "        [5.7, 3.8, 1.7, 0.3],\n",
       "        [5.1, 3.8, 1.5, 0.3],\n",
       "        [5.4, 3.4, 1.7, 0.2],\n",
       "        [5.1, 3.7, 1.5, 0.4],\n",
       "        [4.6, 3.6, 1. , 0.2],\n",
       "        [5.1, 3.3, 1.7, 0.5],\n",
       "        [4.8, 3.4, 1.9, 0.2],\n",
       "        [5. , 3. , 1.6, 0.2],\n",
       "        [5. , 3.4, 1.6, 0.4],\n",
       "        [5.2, 3.5, 1.5, 0.2],\n",
       "        [5.2, 3.4, 1.4, 0.2],\n",
       "        [4.7, 3.2, 1.6, 0.2],\n",
       "        [4.8, 3.1, 1.6, 0.2],\n",
       "        [5.4, 3.4, 1.5, 0.4],\n",
       "        [5.2, 4.1, 1.5, 0.1],\n",
       "        [5.5, 4.2, 1.4, 0.2],\n",
       "        [4.9, 3.1, 1.5, 0.2],\n",
       "        [5. , 3.2, 1.2, 0.2],\n",
       "        [5.5, 3.5, 1.3, 0.2],\n",
       "        [4.9, 3.6, 1.4, 0.1],\n",
       "        [4.4, 3. , 1.3, 0.2],\n",
       "        [5.1, 3.4, 1.5, 0.2],\n",
       "        [5. , 3.5, 1.3, 0.3],\n",
       "        [4.5, 2.3, 1.3, 0.3],\n",
       "        [4.4, 3.2, 1.3, 0.2],\n",
       "        [5. , 3.5, 1.6, 0.6],\n",
       "        [5.1, 3.8, 1.9, 0.4],\n",
       "        [4.8, 3. , 1.4, 0.3],\n",
       "        [5.1, 3.8, 1.6, 0.2],\n",
       "        [4.6, 3.2, 1.4, 0.2],\n",
       "        [5.3, 3.7, 1.5, 0.2],\n",
       "        [5. , 3.3, 1.4, 0.2],\n",
       "        [7. , 3.2, 4.7, 1.4],\n",
       "        [6.4, 3.2, 4.5, 1.5],\n",
       "        [6.9, 3.1, 4.9, 1.5],\n",
       "        [5.5, 2.3, 4. , 1.3],\n",
       "        [6.5, 2.8, 4.6, 1.5],\n",
       "        [5.7, 2.8, 4.5, 1.3],\n",
       "        [6.3, 3.3, 4.7, 1.6],\n",
       "        [4.9, 2.4, 3.3, 1. ],\n",
       "        [6.6, 2.9, 4.6, 1.3],\n",
       "        [5.2, 2.7, 3.9, 1.4],\n",
       "        [5. , 2. , 3.5, 1. ],\n",
       "        [5.9, 3. , 4.2, 1.5],\n",
       "        [6. , 2.2, 4. , 1. ],\n",
       "        [6.1, 2.9, 4.7, 1.4],\n",
       "        [5.6, 2.9, 3.6, 1.3],\n",
       "        [6.7, 3.1, 4.4, 1.4],\n",
       "        [5.6, 3. , 4.5, 1.5],\n",
       "        [5.8, 2.7, 4.1, 1. ],\n",
       "        [6.2, 2.2, 4.5, 1.5],\n",
       "        [5.6, 2.5, 3.9, 1.1],\n",
       "        [5.9, 3.2, 4.8, 1.8],\n",
       "        [6.1, 2.8, 4. , 1.3],\n",
       "        [6.3, 2.5, 4.9, 1.5],\n",
       "        [6.1, 2.8, 4.7, 1.2],\n",
       "        [6.4, 2.9, 4.3, 1.3],\n",
       "        [6.6, 3. , 4.4, 1.4],\n",
       "        [6.8, 2.8, 4.8, 1.4],\n",
       "        [6.7, 3. , 5. , 1.7],\n",
       "        [6. , 2.9, 4.5, 1.5],\n",
       "        [5.7, 2.6, 3.5, 1. ],\n",
       "        [5.5, 2.4, 3.8, 1.1],\n",
       "        [5.5, 2.4, 3.7, 1. ],\n",
       "        [5.8, 2.7, 3.9, 1.2],\n",
       "        [6. , 2.7, 5.1, 1.6],\n",
       "        [5.4, 3. , 4.5, 1.5],\n",
       "        [6. , 3.4, 4.5, 1.6],\n",
       "        [6.7, 3.1, 4.7, 1.5],\n",
       "        [6.3, 2.3, 4.4, 1.3],\n",
       "        [5.6, 3. , 4.1, 1.3],\n",
       "        [5.5, 2.5, 4. , 1.3],\n",
       "        [5.5, 2.6, 4.4, 1.2],\n",
       "        [6.1, 3. , 4.6, 1.4],\n",
       "        [5.8, 2.6, 4. , 1.2],\n",
       "        [5. , 2.3, 3.3, 1. ],\n",
       "        [5.6, 2.7, 4.2, 1.3],\n",
       "        [5.7, 3. , 4.2, 1.2],\n",
       "        [5.7, 2.9, 4.2, 1.3],\n",
       "        [6.2, 2.9, 4.3, 1.3],\n",
       "        [5.1, 2.5, 3. , 1.1],\n",
       "        [5.7, 2.8, 4.1, 1.3],\n",
       "        [6.3, 3.3, 6. , 2.5],\n",
       "        [5.8, 2.7, 5.1, 1.9],\n",
       "        [7.1, 3. , 5.9, 2.1],\n",
       "        [6.3, 2.9, 5.6, 1.8],\n",
       "        [6.5, 3. , 5.8, 2.2],\n",
       "        [7.6, 3. , 6.6, 2.1],\n",
       "        [4.9, 2.5, 4.5, 1.7],\n",
       "        [7.3, 2.9, 6.3, 1.8],\n",
       "        [6.7, 2.5, 5.8, 1.8],\n",
       "        [7.2, 3.6, 6.1, 2.5],\n",
       "        [6.5, 3.2, 5.1, 2. ],\n",
       "        [6.4, 2.7, 5.3, 1.9],\n",
       "        [6.8, 3. , 5.5, 2.1],\n",
       "        [5.7, 2.5, 5. , 2. ],\n",
       "        [5.8, 2.8, 5.1, 2.4],\n",
       "        [6.4, 3.2, 5.3, 2.3],\n",
       "        [6.5, 3. , 5.5, 1.8],\n",
       "        [7.7, 3.8, 6.7, 2.2],\n",
       "        [7.7, 2.6, 6.9, 2.3],\n",
       "        [6. , 2.2, 5. , 1.5],\n",
       "        [6.9, 3.2, 5.7, 2.3],\n",
       "        [5.6, 2.8, 4.9, 2. ],\n",
       "        [7.7, 2.8, 6.7, 2. ],\n",
       "        [6.3, 2.7, 4.9, 1.8],\n",
       "        [6.7, 3.3, 5.7, 2.1],\n",
       "        [7.2, 3.2, 6. , 1.8],\n",
       "        [6.2, 2.8, 4.8, 1.8],\n",
       "        [6.1, 3. , 4.9, 1.8],\n",
       "        [6.4, 2.8, 5.6, 2.1],\n",
       "        [7.2, 3. , 5.8, 1.6],\n",
       "        [7.4, 2.8, 6.1, 1.9],\n",
       "        [7.9, 3.8, 6.4, 2. ],\n",
       "        [6.4, 2.8, 5.6, 2.2],\n",
       "        [6.3, 2.8, 5.1, 1.5],\n",
       "        [6.1, 2.6, 5.6, 1.4],\n",
       "        [7.7, 3. , 6.1, 2.3],\n",
       "        [6.3, 3.4, 5.6, 2.4],\n",
       "        [6.4, 3.1, 5.5, 1.8],\n",
       "        [6. , 3. , 4.8, 1.8],\n",
       "        [6.9, 3.1, 5.4, 2.1],\n",
       "        [6.7, 3.1, 5.6, 2.4],\n",
       "        [6.9, 3.1, 5.1, 2.3],\n",
       "        [5.8, 2.7, 5.1, 1.9],\n",
       "        [6.8, 3.2, 5.9, 2.3],\n",
       "        [6.7, 3.3, 5.7, 2.5],\n",
       "        [6.7, 3. , 5.2, 2.3],\n",
       "        [6.3, 2.5, 5. , 1.9],\n",
       "        [6.5, 3. , 5.2, 2. ],\n",
       "        [6.2, 3.4, 5.4, 2.3],\n",
       "        [5.9, 3. , 5.1, 1.8]]),\n",
       " 'target': array([0, 0, 0, 0, 0, 0, 0, 0, 0, 0, 0, 0, 0, 0, 0, 0, 0, 0, 0, 0, 0, 0,\n",
       "        0, 0, 0, 0, 0, 0, 0, 0, 0, 0, 0, 0, 0, 0, 0, 0, 0, 0, 0, 0, 0, 0,\n",
       "        0, 0, 0, 0, 0, 0, 1, 1, 1, 1, 1, 1, 1, 1, 1, 1, 1, 1, 1, 1, 1, 1,\n",
       "        1, 1, 1, 1, 1, 1, 1, 1, 1, 1, 1, 1, 1, 1, 1, 1, 1, 1, 1, 1, 1, 1,\n",
       "        1, 1, 1, 1, 1, 1, 1, 1, 1, 1, 1, 1, 2, 2, 2, 2, 2, 2, 2, 2, 2, 2,\n",
       "        2, 2, 2, 2, 2, 2, 2, 2, 2, 2, 2, 2, 2, 2, 2, 2, 2, 2, 2, 2, 2, 2,\n",
       "        2, 2, 2, 2, 2, 2, 2, 2, 2, 2, 2, 2, 2, 2, 2, 2, 2, 2]),\n",
       " 'frame': None,\n",
       " 'target_names': array(['setosa', 'versicolor', 'virginica'], dtype='<U10'),\n",
       " 'DESCR': '.. _iris_dataset:\\n\\nIris plants dataset\\n--------------------\\n\\n**Data Set Characteristics:**\\n\\n:Number of Instances: 150 (50 in each of three classes)\\n:Number of Attributes: 4 numeric, predictive attributes and the class\\n:Attribute Information:\\n    - sepal length in cm\\n    - sepal width in cm\\n    - petal length in cm\\n    - petal width in cm\\n    - class:\\n            - Iris-Setosa\\n            - Iris-Versicolour\\n            - Iris-Virginica\\n\\n:Summary Statistics:\\n\\n============== ==== ==== ======= ===== ====================\\n                Min  Max   Mean    SD   Class Correlation\\n============== ==== ==== ======= ===== ====================\\nsepal length:   4.3  7.9   5.84   0.83    0.7826\\nsepal width:    2.0  4.4   3.05   0.43   -0.4194\\npetal length:   1.0  6.9   3.76   1.76    0.9490  (high!)\\npetal width:    0.1  2.5   1.20   0.76    0.9565  (high!)\\n============== ==== ==== ======= ===== ====================\\n\\n:Missing Attribute Values: None\\n:Class Distribution: 33.3% for each of 3 classes.\\n:Creator: R.A. Fisher\\n:Donor: Michael Marshall (MARSHALL%PLU@io.arc.nasa.gov)\\n:Date: July, 1988\\n\\nThe famous Iris database, first used by Sir R.A. Fisher. The dataset is taken\\nfrom Fisher\\'s paper. Note that it\\'s the same as in R, but not as in the UCI\\nMachine Learning Repository, which has two wrong data points.\\n\\nThis is perhaps the best known database to be found in the\\npattern recognition literature.  Fisher\\'s paper is a classic in the field and\\nis referenced frequently to this day.  (See Duda & Hart, for example.)  The\\ndata set contains 3 classes of 50 instances each, where each class refers to a\\ntype of iris plant.  One class is linearly separable from the other 2; the\\nlatter are NOT linearly separable from each other.\\n\\n.. dropdown:: References\\n\\n  - Fisher, R.A. \"The use of multiple measurements in taxonomic problems\"\\n    Annual Eugenics, 7, Part II, 179-188 (1936); also in \"Contributions to\\n    Mathematical Statistics\" (John Wiley, NY, 1950).\\n  - Duda, R.O., & Hart, P.E. (1973) Pattern Classification and Scene Analysis.\\n    (Q327.D83) John Wiley & Sons.  ISBN 0-471-22361-1.  See page 218.\\n  - Dasarathy, B.V. (1980) \"Nosing Around the Neighborhood: A New System\\n    Structure and Classification Rule for Recognition in Partially Exposed\\n    Environments\".  IEEE Transactions on Pattern Analysis and Machine\\n    Intelligence, Vol. PAMI-2, No. 1, 67-71.\\n  - Gates, G.W. (1972) \"The Reduced Nearest Neighbor Rule\".  IEEE Transactions\\n    on Information Theory, May 1972, 431-433.\\n  - See also: 1988 MLC Proceedings, 54-64.  Cheeseman et al\"s AUTOCLASS II\\n    conceptual clustering system finds 3 classes in the data.\\n  - Many, many more ...\\n',\n",
       " 'feature_names': ['sepal length (cm)',\n",
       "  'sepal width (cm)',\n",
       "  'petal length (cm)',\n",
       "  'petal width (cm)'],\n",
       " 'filename': 'iris.csv',\n",
       " 'data_module': 'sklearn.datasets.data'}"
      ]
     },
     "execution_count": 22,
     "metadata": {},
     "output_type": "execute_result"
    }
   ],
   "execution_count": 22
  },
  {
   "cell_type": "code",
   "metadata": {
    "colab": {
     "base_uri": "https://localhost:8080/"
    },
    "id": "zWwjgGe8HBcO",
    "outputId": "059f57b3-c284-42cb-cfa5-7aca79e3cf76",
    "ExecuteTime": {
     "end_time": "2025-03-27T08:25:13.604956Z",
     "start_time": "2025-03-27T08:25:13.573465Z"
    }
   },
   "source": [
    "import pandas as pd\n",
    "# Create a DataFrame\n",
    "df = pd.DataFrame(iris.data, columns=iris.feature_names)\n",
    "\n",
    "# Add the target column\n",
    "df['target'] = iris.target\n",
    "\n",
    "# Display the first few rows\n",
    "print(df) # df.head() / df.tail()"
   ],
   "outputs": [
    {
     "name": "stdout",
     "output_type": "stream",
     "text": [
      "     sepal length (cm)  sepal width (cm)  petal length (cm)  petal width (cm)  \\\n",
      "0                  5.1               3.5                1.4               0.2   \n",
      "1                  4.9               3.0                1.4               0.2   \n",
      "2                  4.7               3.2                1.3               0.2   \n",
      "3                  4.6               3.1                1.5               0.2   \n",
      "4                  5.0               3.6                1.4               0.2   \n",
      "..                 ...               ...                ...               ...   \n",
      "145                6.7               3.0                5.2               2.3   \n",
      "146                6.3               2.5                5.0               1.9   \n",
      "147                6.5               3.0                5.2               2.0   \n",
      "148                6.2               3.4                5.4               2.3   \n",
      "149                5.9               3.0                5.1               1.8   \n",
      "\n",
      "     target  \n",
      "0         0  \n",
      "1         0  \n",
      "2         0  \n",
      "3         0  \n",
      "4         0  \n",
      "..      ...  \n",
      "145       2  \n",
      "146       2  \n",
      "147       2  \n",
      "148       2  \n",
      "149       2  \n",
      "\n",
      "[150 rows x 5 columns]\n"
     ]
    }
   ],
   "execution_count": 23
  },
  {
   "cell_type": "markdown",
   "metadata": {},
   "source": [
    "Example of using sklearn"
   ]
  },
  {
   "cell_type": "code",
   "metadata": {
    "colab": {
     "base_uri": "https://localhost:8080/",
     "height": 838
    },
    "id": "YTIziUnh41MG",
    "outputId": "45de6365-91aa-4465-df88-9d31f5129eca",
    "ExecuteTime": {
     "end_time": "2025-03-27T08:25:13.979957Z",
     "start_time": "2025-03-27T08:25:13.648077Z"
    }
   },
   "source": [
    "import numpy as np\n",
    "import matplotlib.pyplot as plt\n",
    "from sklearn.model_selection import train_test_split\n",
    "from sklearn.preprocessing import StandardScaler\n",
    "from sklearn.datasets import load_iris\n",
    "from sklearn.neural_network import MLPClassifier\n",
    "from sklearn.metrics import classification_report, accuracy_score\n",
    "\n",
    "# Load the Iris dataset\n",
    "iris = load_iris()\n",
    "X = iris.data\n",
    "y = iris.target\n",
    "\n",
    "# Split the data into training and testing sets\n",
    "X_train, X_test, y_train, y_test = train_test_split(X, y, test_size=0.2, random_state=42)\n",
    "\n",
    "# Feature scaling (important for neural networks)\n",
    "scaler = StandardScaler() # MinMaxScaler() (Normalization)\n",
    "X_train = scaler.fit_transform(X_train)\n",
    "X_test = scaler.transform(X_test)\n",
    "\n",
    "# Build and train the neural network\n",
    "mlp = MLPClassifier(hidden_layer_sizes=(10,), activation='relu', solver='adam', max_iter=500, random_state=42) # MLPClassifier(hidden_layer_sizes=(10, 20,10) 3 hidden layers and their neuron numbers\n",
    "# loss cross entropy for classifier and MSE for MLPRegressor\n",
    "mlp.fit(X_train, y_train)\n",
    "\n",
    "# Make predictions\n",
    "y_pred = mlp.predict(X_test)\n",
    "\n",
    "# Evaluate the model\n",
    "print(\"Classification Report:\")\n",
    "print(classification_report(y_test, y_pred))\n",
    "print(\"Accuracy:\", accuracy_score(y_test, y_pred))\n",
    "\n",
    "# Plot some of the test results\n",
    "plt.figure(figsize=(10, 6))\n",
    "plt.scatter(X_test[:, 0], X_test[:, 1], c=y_test, marker='o', label='True Labels')\n",
    "plt.scatter(X_test[:, 0], X_test[:, 1], c=y_pred, marker='x', label='Predicted Labels')\n",
    "plt.xlabel(\"Sepal length\")\n",
    "plt.ylabel(\"Sepal width\")\n",
    "plt.title('Iris Dataset Classification')\n",
    "plt.legend()\n",
    "plt.show()\n"
   ],
   "outputs": [
    {
     "name": "stdout",
     "output_type": "stream",
     "text": [
      "Classification Report:\n",
      "              precision    recall  f1-score   support\n",
      "\n",
      "           0       1.00      1.00      1.00        10\n",
      "           1       1.00      1.00      1.00         9\n",
      "           2       1.00      1.00      1.00        11\n",
      "\n",
      "    accuracy                           1.00        30\n",
      "   macro avg       1.00      1.00      1.00        30\n",
      "weighted avg       1.00      1.00      1.00        30\n",
      "\n",
      "Accuracy: 1.0\n"
     ]
    },
    {
     "name": "stderr",
     "output_type": "stream",
     "text": [
      "C:\\Users\\leonh\\OneDrive\\Dokumenty\\skola\\Ing\\2.semestr\\neuron\\.venv\\lib\\site-packages\\sklearn\\neural_network\\_multilayer_perceptron.py:691: ConvergenceWarning: Stochastic Optimizer: Maximum iterations (500) reached and the optimization hasn't converged yet.\n",
      "  warnings.warn(\n"
     ]
    },
    {
     "data": {
      "text/plain": [
       "<Figure size 1000x600 with 1 Axes>"
      ],
      "image/png": "[encoded data removed]"
     },
     "metadata": {},
     "output_type": "display_data"
    }
   ],
   "execution_count": 24
  },
  {
   "cell_type": "markdown",
   "metadata": {},
   "source": [
    "Cross-entropy loss is a common loss function used in classification tasks, especially in neural networks. It measures the difference between two probability distributions: the predicted probabilities (output by the model) and the true distribution (ground truth labels). The goal of training is to minimize this loss, which corresponds to making the predicted probabilities as close as possible to the true distribution."
   ]
  },
  {
   "cell_type": "markdown",
   "metadata": {},
   "source": [
    "(For binary classification)Binary Cross-Entropy Loss = (-1/n)∑[y_i.log(p_i)+(1-y_i).log(1-p_i)]\n",
    "Where\n",
    "\n",
    "n: Number of samples.\n",
    "\n",
    "y_i: True label for sample i (0 or 1).\n",
    "\n",
    "p_i: Predicted probability for sample i (between 0 and 1).\n",
    "\n",
    "(For multi-class classification)Categorical Cross-Entropy Loss = (-1/n)∑∑y_i_c.log(p_i_c)\n",
    "\n",
    "Where:\n",
    "\n",
    "n: Number of samples.\n",
    "c: Number of classes.\n",
    "y_i_c: True label for sample i and class c (one-hot encoded: 1 if the sample belongs to class c, otherwise 0).\n",
    "p_i_c: Predicted probability for sample i and class c.\n",
    "\n",
    "Why Use Cross-Entropy?\n",
    "\n",
    "It penalizes incorrect predictions more heavily when the predicted probability is far from the true label.\n",
    "\n",
    "It works well with softmax activation in the output layer, which converts raw scores (logits) into probabilities.\n",
    "\n",
    "Step 1: Binary Cross-Entropy (From Scratch)"
   ]
  },
  {
   "cell_type": "code",
   "metadata": {
    "colab": {
     "base_uri": "https://localhost:8080/"
    },
    "id": "SNssOG0X93O9",
    "outputId": "f18d8b8a-e510-4f55-e7d2-e4410a02e185",
    "ExecuteTime": {
     "end_time": "2025-03-27T08:25:14.027663Z",
     "start_time": "2025-03-27T08:25:14.011638Z"
    }
   },
   "source": [
    "import numpy as np\n",
    "\n",
    "def binary_cross_entropy_loss(y_true, y_pred):\n",
    "    \"\"\"\n",
    "    Compute binary cross-entropy loss manually.\n",
    "\n",
    "    Parameters:\n",
    "        y_true (numpy array): True labels (0 or 1), shape (N,).\n",
    "        y_pred (numpy array): Predicted probabilities (between 0 and 1), shape (N,).\n",
    "\n",
    "    Returns:\n",
    "        float: Mean binary cross-entropy loss.\n",
    "    \"\"\"\n",
    "    epsilon = 1e-7  # Small value to avoid log(0)\n",
    "    y_pred = np.clip(y_pred, epsilon, 1 - epsilon)  # Clip values to prevent numerical instability\n",
    "    loss = -np.mean(y_true * np.log(y_pred) + (1 - y_true) * np.log(1 - y_pred))\n",
    "    return loss\n",
    "\n",
    "# Example Usage\n",
    "y_true = np.array([1, 0, 1, 1, 0])  # True labels\n",
    "y_pred = np.array([0.9, 0.1, 0.8, 0.7, 0.2])  # Predicted probabilities\n",
    "\n",
    "loss = binary_cross_entropy_loss(y_true, y_pred)\n",
    "print(f\"Manually Calculated Binary Cross-Entropy Loss: {loss:.4f}\")"
   ],
   "outputs": [
    {
     "name": "stdout",
     "output_type": "stream",
     "text": [
      "Manually Calculated Binary Cross-Entropy Loss: 0.2027\n"
     ]
    }
   ],
   "execution_count": 25
  },
  {
   "cell_type": "markdown",
   "metadata": {},
   "source": [
    "Step 2: Categorical Cross-Entropy (From Scratch)"
   ]
  },
  {
   "cell_type": "code",
   "metadata": {
    "colab": {
     "base_uri": "https://localhost:8080/"
    },
    "id": "EFOkQqPh9-cb",
    "outputId": "045fbc45-9e27-459c-f7c8-0f51ac3a8fc0",
    "ExecuteTime": {
     "end_time": "2025-03-27T08:25:14.074590Z",
     "start_time": "2025-03-27T08:25:14.061619Z"
    }
   },
   "source": [
    "def categorical_cross_entropy_loss(y_true, y_pred):\n",
    "    \"\"\"\n",
    "    Compute categorical cross-entropy loss manually.\n",
    "\n",
    "    Parameters:\n",
    "        y_true (numpy array): True labels (one-hot encoded), shape (N, C).\n",
    "        y_pred (numpy array): Predicted probabilities, shape (N, C).\n",
    "\n",
    "    Returns:\n",
    "        float: Mean categorical cross-entropy loss.\n",
    "    \"\"\"\n",
    "    epsilon = 1e-7  # Small value to avoid log(0)\n",
    "    y_pred = np.clip(y_pred, epsilon, 1 - epsilon)  # Clip values to prevent numerical instability\n",
    "    loss = -np.mean(np.sum(y_true * np.log(y_pred), axis=1))  # Sum over classes, then mean over samples\n",
    "    return loss\n",
    "\n",
    "# Example Usage\n",
    "y_true = np.array([[1, 0, 0], [0, 1, 0], [0, 0, 1]])  # One-hot encoded true labels\n",
    "y_pred = np.array([[0.8, 0.1, 0.1], [0.2, 0.7, 0.1], [0.1, 0.2, 0.7]])  # Predicted probabilities\n",
    "\n",
    "loss = categorical_cross_entropy_loss(y_true, y_pred)\n",
    "print(f\"Manually Calculated Categorical Cross-Entropy Loss: {loss:.4f}\")"
   ],
   "outputs": [
    {
     "name": "stdout",
     "output_type": "stream",
     "text": [
      "Manually Calculated Categorical Cross-Entropy Loss: 0.3122\n"
     ]
    }
   ],
   "execution_count": 26
  },
  {
   "cell_type": "markdown",
   "metadata": {
    "id": "NmNikqRe-JHd"
   },
   "source": [
    "Step 3: Comparison with PyTorch's Built-In Loss Functions"
   ]
  },
  {
   "cell_type": "code",
   "metadata": {
    "colab": {
     "base_uri": "https://localhost:8080/"
    },
    "id": "NgP4Bsla-J08",
    "outputId": "fb7d2abc-85f8-4861-d894-ea245225a1ee",
    "ExecuteTime": {
     "end_time": "2025-03-27T08:25:14.129457Z",
     "start_time": "2025-03-27T08:25:14.110601Z"
    }
   },
   "source": [
    "import torch\n",
    "import torch.nn as nn\n",
    "\n",
    "# Binary Cross-Entropy Loss in PyTorch\n",
    "bce_loss_fn = nn.BCELoss()  # Binary Cross-Entropy Loss\n",
    "y_true_tensor = torch.tensor([1.0, 0.0, 1.0, 1.0, 0.0])  # True labels\n",
    "y_pred_tensor = torch.tensor([0.9, 0.1, 0.8, 0.7, 0.2])  # Predicted probabilities\n",
    "bce_loss = bce_loss_fn(y_pred_tensor, y_true_tensor)\n",
    "print(f\"PyTorch Binary Cross-Entropy Loss: {bce_loss.item():.4f}\")\n",
    "\n",
    "# Categorical Cross-Entropy Loss in PyTorch\n",
    "cce_loss_fn = nn.CrossEntropyLoss()  # Categorical Cross-Entropy Loss\n",
    "y_true_tensor = torch.tensor([0, 1, 2])  # Class indices (not one-hot encoded)\n",
    "y_pred_tensor = torch.tensor([[2.0, -1.0, -1.0], [-1.0, 2.0, -1.0], [-1.0, -1.0, 2.0]])  # Raw logits\n",
    "cce_loss = cce_loss_fn(y_pred_tensor, y_true_tensor)\n",
    "print(f\"PyTorch Categorical Cross-Entropy Loss: {cce_loss.item():.4f}\")"
   ],
   "outputs": [
    {
     "name": "stdout",
     "output_type": "stream",
     "text": [
      "PyTorch Binary Cross-Entropy Loss: 0.2027\n",
      "PyTorch Categorical Cross-Entropy Loss: 0.0949\n"
     ]
    }
   ],
   "execution_count": 27
  },
  {
   "cell_type": "markdown",
   "metadata": {
    "id": "6vywc-mq_uxK"
   },
   "source": [
    "The gradient of the loss with respect to the weights w is:\n",
    "\n",
    "∂w/∂L = (1/N)∑(p_i−y_i)⋅x_i\n",
    "\n",
    "Where:\n",
    "\n",
    "p_i-y_i: Difference between predicted probabilities and true labels.\n",
    "\n",
    "Gradient Descent Update Rule:\n",
    "\n",
    "w:=w-η⋅∂L/∂w\n",
    "\n",
    "where:\n",
    "\n",
    "η: Learning rate.\n",
    "\n",
    "Adam Optimizer Update Rule:\n",
    "\n",
    "Adam combines momentum and adaptive learning rates. The update rules are:\n",
    "\n",
    "1 Compute the first moment (mean of gradients):\n",
    "\n",
    "m_t= β1⋅m_(t-1)+(1-β1)⋅g_t\n",
    "\n",
    "2 Compute the second moment (uncentered variance of gradients):\n",
    "\n",
    "v_t=β2⋅v_(t-1)+(1-β2)⋅(g_t)^2\n",
    "\n",
    "3 Bias correction:\n",
    "\n",
    "M_t=m_t/(1-β1_t)\n",
    "\n",
    "V_t=v_t/(1-β2_t)​\n",
    "\n",
    "Update the weights:\n",
    "\n",
    "w:=w-η⋅M_t/((√V_t)+ϵ)\n",
    "\n",
    "Where:\n",
    "\n",
    "g_t: Gradient at time step t.\n",
    "\n",
    "β1,β2: Exponential decay rates for the first and second moments (default: 0.9, 0.999).\n",
    "\n",
    "ϵ: Small constant to prevent division by zero (default: 1e-8).\n",
    "\n",
    "Binary Cross-Entropy Loss with Gradient Descent:"
   ]
  },
  {
   "cell_type": "code",
   "metadata": {
    "colab": {
     "base_uri": "https://localhost:8080/"
    },
    "id": "zWDHJiP2F5Vl",
    "outputId": "afe30cb4-ef78-48e9-8eae-33325d81d9cf",
    "ExecuteTime": {
     "end_time": "2025-03-27T08:25:14.224106Z",
     "start_time": "2025-03-27T08:25:14.184168Z"
    }
   },
   "source": [
    "import numpy as np\n",
    "\n",
    "def sigmoid(z):\n",
    "    return 1 / (1 + np.exp(-z))\n",
    "\n",
    "def binary_cross_entropy_loss(y_true, y_pred):\n",
    "    epsilon = 1e-7\n",
    "    y_pred = np.clip(y_pred, epsilon, 1 - epsilon)\n",
    "    loss = -np.mean(y_true * np.log(y_pred) + (1 - y_true) * np.log(1 - y_pred))\n",
    "    return loss\n",
    "\n",
    "def gradient_descent_binary(X, y, learning_rate=0.01, epochs=100):\n",
    "    \"\"\"\n",
    "    Perform gradient descent for binary classification using binary cross-entropy loss.\n",
    "\n",
    "    Parameters:\n",
    "        X (numpy array): Input features, shape (N, D).\n",
    "        y (numpy array): True labels (0 or 1), shape (N,).\n",
    "        learning_rate (float): Learning rate.\n",
    "        epochs (int): Number of iterations.\n",
    "\n",
    "    Returns:\n",
    "        weights (numpy array): Learned weights.\n",
    "        losses (list): Loss values over epochs.\n",
    "    \"\"\"\n",
    "    N, D = X.shape\n",
    "    weights = np.zeros(D)  # Initialize weights to zero\n",
    "    losses = []\n",
    "\n",
    "    for epoch in range(epochs):\n",
    "        # Forward pass\n",
    "        z = np.dot(X, weights)\n",
    "        y_pred = sigmoid(z)\n",
    "\n",
    "        # Compute loss\n",
    "        loss = binary_cross_entropy_loss(y, y_pred)\n",
    "        losses.append(loss)\n",
    "\n",
    "        # Compute gradients\n",
    "        gradients = (1 / N) * np.dot(X.T, (y_pred - y))\n",
    "\n",
    "        # Update weights\n",
    "        weights -= learning_rate * gradients\n",
    "\n",
    "        if epoch % 10 == 0:\n",
    "            print(f\"Epoch {epoch}, Loss: {loss:.4f}\")\n",
    "\n",
    "    return weights, losses\n",
    "\n",
    "# Example Usage\n",
    "X = np.array([[1, 2], [2, 3], [3, 4], [4, 5]])  # Input features\n",
    "y = np.array([0, 0, 1, 1])  # True labels\n",
    "weights, losses = gradient_descent_binary(X, y, learning_rate=0.1, epochs=100)"
   ],
   "outputs": [
    {
     "name": "stdout",
     "output_type": "stream",
     "text": [
      "Epoch 0, Loss: 0.6931\n",
      "Epoch 10, Loss: 0.6348\n",
      "Epoch 20, Loss: 0.6246\n",
      "Epoch 30, Loss: 0.6146\n",
      "Epoch 40, Loss: 0.6049\n",
      "Epoch 50, Loss: 0.5955\n",
      "Epoch 60, Loss: 0.5863\n",
      "Epoch 70, Loss: 0.5774\n",
      "Epoch 80, Loss: 0.5688\n",
      "Epoch 90, Loss: 0.5604\n"
     ]
    }
   ],
   "execution_count": 28
  },
  {
   "cell_type": "markdown",
   "metadata": {
    "id": "xZ0CFiJWGJko"
   },
   "source": [
    "Categorical Cross-Entropy Loss with Adam Optimizer"
   ]
  },
  {
   "cell_type": "code",
   "metadata": {
    "colab": {
     "base_uri": "https://localhost:8080/"
    },
    "id": "u-Jp4HlSGKd9",
    "outputId": "c5fde0aa-3d22-4524-bc7a-be3c0ce4b46c",
    "ExecuteTime": {
     "end_time": "2025-03-27T08:25:14.320236Z",
     "start_time": "2025-03-27T08:25:14.294842Z"
    }
   },
   "source": [
    "def softmax(z):\n",
    "    exp_z = np.exp(z - np.max(z, axis=1, keepdims=True))  # Numerical stability\n",
    "    return exp_z / np.sum(exp_z, axis=1, keepdims=True)\n",
    "\n",
    "def categorical_cross_entropy_loss(y_true, y_pred):\n",
    "    epsilon = 1e-7\n",
    "    y_pred = np.clip(y_pred, epsilon, 1 - epsilon)\n",
    "    loss = -np.mean(np.sum(y_true * np.log(y_pred), axis=1))\n",
    "    return loss\n",
    "\n",
    "def adam_optimizer_categorical(X, y, learning_rate=0.001, beta1=0.9, beta2=0.999, epsilon=1e-8, epochs=100):\n",
    "    \"\"\"\n",
    "    Perform Adam optimization for multi-class classification using categorical cross-entropy loss.\n",
    "\n",
    "    Parameters:\n",
    "        X (numpy array): Input features, shape (N, D).\n",
    "        y (numpy array): One-hot encoded true labels, shape (N, C).\n",
    "        learning_rate (float): Learning rate.\n",
    "        beta1, beta2 (float): Exponential decay rates for Adam.\n",
    "        epsilon (float): Small constant to prevent division by zero.\n",
    "        epochs (int): Number of iterations.\n",
    "\n",
    "    Returns:\n",
    "        weights (numpy array): Learned weights.\n",
    "        losses (list): Loss values over epochs.\n",
    "    \"\"\"\n",
    "    N, D = X.shape\n",
    "    _, C = y.shape\n",
    "    weights = np.zeros((D, C))  # Initialize weights to zero\n",
    "    m = np.zeros_like(weights)  # First moment vector\n",
    "    v = np.zeros_like(weights)  # Second moment vector\n",
    "    losses = []\n",
    "\n",
    "    for epoch in range(epochs):\n",
    "        # Forward pass\n",
    "        z = np.dot(X, weights)\n",
    "        y_pred = softmax(z)\n",
    "\n",
    "        # Compute loss\n",
    "        loss = categorical_cross_entropy_loss(y, y_pred)\n",
    "        losses.append(loss)\n",
    "\n",
    "        # Compute gradients\n",
    "        gradients = (1 / N) * np.dot(X.T, (y_pred - y))\n",
    "\n",
    "        # Update first and second moments\n",
    "        m = beta1 * m + (1 - beta1) * gradients\n",
    "        v = beta2 * v + (1 - beta2) * gradients**2\n",
    "\n",
    "        # Bias correction\n",
    "        m_hat = m / (1 - beta1**(epoch + 1))\n",
    "        v_hat = v / (1 - beta2**(epoch + 1))\n",
    "\n",
    "        # Update weights\n",
    "        weights -= learning_rate * m_hat / (np.sqrt(v_hat) + epsilon)\n",
    "\n",
    "        if epoch % 10 == 0:\n",
    "            print(f\"Epoch {epoch}, Loss: {loss:.4f}\")\n",
    "\n",
    "    return weights, losses\n",
    "\n",
    "# Example Usage\n",
    "X = np.array([[1, 2], [2, 3], [3, 4], [4, 5]])  # Input features\n",
    "y = np.array([[1, 0, 0], [0, 1, 0], [0, 0, 1], [1, 0, 0]])  # One-hot encoded true labels\n",
    "weights, losses = adam_optimizer_categorical(X, y, learning_rate=0.01, epochs=100)"
   ],
   "outputs": [
    {
     "name": "stdout",
     "output_type": "stream",
     "text": [
      "Epoch 0, Loss: 1.0986\n",
      "Epoch 10, Loss: 1.0432\n",
      "Epoch 20, Loss: 1.0402\n",
      "Epoch 30, Loss: 1.0369\n",
      "Epoch 40, Loss: 1.0335\n",
      "Epoch 50, Loss: 1.0313\n",
      "Epoch 60, Loss: 1.0288\n",
      "Epoch 70, Loss: 1.0263\n",
      "Epoch 80, Loss: 1.0239\n",
      "Epoch 90, Loss: 1.0216\n"
     ]
    }
   ],
   "execution_count": 29
  },
  {
   "cell_type": "markdown",
   "metadata": {},
   "source": [
    "# My code"
   ]
  },
  {
   "cell_type": "code",
   "metadata": {
    "ExecuteTime": {
     "end_time": "2025-03-27T08:25:14.336326Z",
     "start_time": "2025-03-27T08:25:14.327279Z"
    }
   },
   "source": [
    "def load_and_preprocess_data():\n",
    "    iris = load_iris()\n",
    "    X, y = iris.data, iris.target\n",
    "    print(f\"Number of features: {X.shape[1]}\")\n",
    "    print(f\"Number of classes: {len(set(y))}\")\n",
    "\n",
    "    X_perceptron, y_perceptron = X[y < 2], y[y < 2]\n",
    "    X_train, X_test, y_train, y_test = train_test_split(X, y, test_size=0.2, random_state=42)\n",
    "    X_train_p, X_test_p, y_train_p, y_test_p = train_test_split(X_perceptron, y_perceptron, test_size=0.2,\n",
    "                                                                random_state=42)\n",
    "\n",
    "    scaler = StandardScaler()\n",
    "    return {\n",
    "        \"X_train\": scaler.fit_transform(X_train), \"X_test\": scaler.transform(X_test),\n",
    "        \"y_train\": y_train, \"y_test\": y_test,\n",
    "        \"X_train_p\": scaler.fit_transform(X_train_p), \"X_test_p\": scaler.transform(X_test_p),\n",
    "        \"y_train_p\": y_train_p, \"y_test_p\": y_test_p\n",
    "    }\n"
   ],
   "outputs": [],
   "execution_count": 30
  },
  {
   "cell_type": "code",
   "metadata": {
    "ExecuteTime": {
     "end_time": "2025-03-27T08:25:14.404678Z",
     "start_time": "2025-03-27T08:25:14.382675Z"
    }
   },
   "source": [
    "from sklearn.linear_model import Perceptron\n",
    "\n",
    "\n",
    "def train_perceptron(X_train_p, X_test_p, y_train_p, y_test_p):\n",
    "    model = Perceptron()\n",
    "    model.fit(X_train_p, y_train_p)\n",
    "    y_pred = model.predict(X_test_p)\n",
    "    print(\"Scikit-learn Perceptron:\")\n",
    "    print(classification_report(y_test_p, y_pred))"
   ],
   "outputs": [],
   "execution_count": 31
  },
  {
   "cell_type": "code",
   "metadata": {
    "ExecuteTime": {
     "end_time": "2025-03-27T08:25:14.495851Z",
     "start_time": "2025-03-27T08:25:14.471504Z"
    }
   },
   "source": [
    "data = load_and_preprocess_data()\n",
    "train_perceptron(data['X_train_p'], data['X_test_p'], data['y_train_p'], data['y_test_p'])"
   ],
   "outputs": [
    {
     "name": "stdout",
     "output_type": "stream",
     "text": [
      "Number of features: 4\n",
      "Number of classes: 3\n",
      "Scikit-learn Perceptron:\n",
      "              precision    recall  f1-score   support\n",
      "\n",
      "           0       1.00      1.00      1.00        12\n",
      "           1       1.00      1.00      1.00         8\n",
      "\n",
      "    accuracy                           1.00        20\n",
      "   macro avg       1.00      1.00      1.00        20\n",
      "weighted avg       1.00      1.00      1.00        20\n",
      "\n"
     ]
    }
   ],
   "execution_count": 32
  },
  {
   "cell_type": "code",
   "metadata": {
    "ExecuteTime": {
     "end_time": "2025-03-27T08:25:14.831980Z",
     "start_time": "2025-03-27T08:25:14.529418Z"
    }
   },
   "source": [
    "def train_sklearn_feedforward(X_train, X_test, y_train, y_test):\n",
    "    model = MLPClassifier(hidden_layer_sizes=(10,), activation='relu', solver='adam', max_iter=10000, random_state=42)\n",
    "    model.fit(X_train, y_train)\n",
    "    y_pred = model.predict(X_test)\n",
    "    print(\"Scikit-learn Feedforward NN:\")\n",
    "    print(classification_report(y_test, y_pred))\n",
    "\n",
    "train_sklearn_feedforward(data['X_train'], data['X_test'], data['y_train'], data['y_test'])"
   ],
   "outputs": [
    {
     "name": "stdout",
     "output_type": "stream",
     "text": [
      "Scikit-learn Feedforward NN:\n",
      "              precision    recall  f1-score   support\n",
      "\n",
      "           0       1.00      1.00      1.00        10\n",
      "           1       1.00      1.00      1.00         9\n",
      "           2       1.00      1.00      1.00        11\n",
      "\n",
      "    accuracy                           1.00        30\n",
      "   macro avg       1.00      1.00      1.00        30\n",
      "weighted avg       1.00      1.00      1.00        30\n",
      "\n"
     ]
    }
   ],
   "execution_count": 33
  },
  {
   "cell_type": "code",
   "metadata": {
    "ExecuteTime": {
     "end_time": "2025-03-27T08:25:16.918767Z",
     "start_time": "2025-03-27T08:25:14.864075Z"
    }
   },
   "source": [
    "from keras.src.layers import Dense\n",
    "from keras.src.layers import Dropout\n",
    "from keras import Sequential\n",
    "\n",
    "from keras import Input\n",
    "\n",
    "\n",
    "def train_keras_feedforward(X_train, X_test, y_train, y_test):\n",
    "    model = Sequential([\n",
    "        Input(shape=(X_train.shape[1],)),\n",
    "        Dense(10, activation='relu'),\n",
    "        Dropout(0.3),\n",
    "        Dense(3, activation='softmax')\n",
    "    ])\n",
    "    model.compile(optimizer='adam', loss='sparse_categorical_crossentropy', metrics=['accuracy'])\n",
    "    model.fit(X_train, y_train, epochs=30, verbose=0)\n",
    "    y_pred = np.argmax(model.predict(X_test), axis=1)\n",
    "    print(\"Keras Feedforward NN:\")\n",
    "    print(classification_report(y_test, y_pred))\n",
    "\n",
    "train_keras_feedforward(data['X_train'], data['X_test'], data['y_train'], data['y_test'])"
   ],
   "outputs": [
    {
     "name": "stdout",
     "output_type": "stream",
     "text": [
      "\u001B[1m1/1\u001B[0m \u001B[32m━━━━━━━━━━━━━━━━━━━━\u001B[0m\u001B[37m\u001B[0m \u001B[1m0s\u001B[0m 68ms/step\n",
      "Keras Feedforward NN:\n",
      "              precision    recall  f1-score   support\n",
      "\n",
      "           0       0.77      1.00      0.87        10\n",
      "           1       0.38      0.67      0.48         9\n",
      "           2       0.00      0.00      0.00        11\n",
      "\n",
      "    accuracy                           0.53        30\n",
      "   macro avg       0.38      0.56      0.45        30\n",
      "weighted avg       0.37      0.53      0.43        30\n",
      "\n"
     ]
    }
   ],
   "execution_count": 34
  },
  {
   "metadata": {
    "ExecuteTime": {
     "end_time": "2025-03-27T08:25:16.962732Z",
     "start_time": "2025-03-27T08:25:16.949179Z"
    }
   },
   "cell_type": "code",
   "source": [
    "class FeedforwardNN(nn.Module):\n",
    "    def __init__(self, input_size, hidden_size, output_size, activation_fn):\n",
    "        super(FeedforwardNN, self).__init__()\n",
    "        self.fc1 = nn.Linear(input_size, hidden_size)\n",
    "        self.activation = activation_fn\n",
    "        self.dropout = nn.Dropout(0.3)\n",
    "        self.fc2 = nn.Linear(hidden_size, output_size)\n",
    "        self.softmax = nn.Softmax(dim=1)\n",
    "\n",
    "    def forward(self, x):\n",
    "        out = self.fc1(x)\n",
    "        out = self.activation(out)\n",
    "        out = self.dropout(out)\n",
    "        out = self.fc2(out)\n",
    "        out = self.softmax(out)\n",
    "        return out"
   ],
   "outputs": [],
   "execution_count": 35
  },
  {
   "cell_type": "code",
   "metadata": {
    "ExecuteTime": {
     "end_time": "2025-03-27T08:25:17.024132Z",
     "start_time": "2025-03-27T08:25:16.998885Z"
    }
   },
   "source": [
    "from torch import optim\n",
    "from torch.utils.data import TensorDataset\n",
    "from torch import nn\n",
    "\n",
    "from torch.utils.data import DataLoader\n",
    "\n",
    "\n",
    "def train_pytorch_feedforward(X_train, X_test, y_train, y_test, activation, optimizer_type):\n",
    "    X_train_torch = torch.tensor(X_train, dtype=torch.float32)\n",
    "    y_train_torch = torch.tensor(y_train, dtype=torch.long)\n",
    "    X_test_torch = torch.tensor(X_test, dtype=torch.float32)\n",
    "    y_test_torch = torch.tensor(y_test, dtype=torch.long)\n",
    "\n",
    "    dataset = TensorDataset(X_train_torch, y_train_torch)\n",
    "    dataloader = DataLoader(dataset, batch_size=8, shuffle=True)\n",
    "\n",
    "    model = FeedforwardNN(X_train.shape[1], 10, 3, activation)\n",
    "    criterion = nn.CrossEntropyLoss()\n",
    "\n",
    "    if optimizer_type == 'Adam':\n",
    "        optimizer = optim.Adam(model.parameters(), lr=0.01)\n",
    "    elif optimizer_type == 'SGD':\n",
    "        optimizer = optim.SGD(model.parameters(), lr=0.01, momentum=0.9)\n",
    "    else:\n",
    "        raise ValueError(f'Unknown optimizer: {optimizer_type}')\n",
    "\n",
    "    for epoch in range(30):\n",
    "        for batch in dataloader:\n",
    "            inputs, labels = batch\n",
    "            optimizer.zero_grad()\n",
    "            outputs = model(inputs)\n",
    "            loss = criterion(outputs, labels)\n",
    "            loss.backward()\n",
    "            optimizer.step()\n",
    "\n",
    "    y_pred = torch.argmax(model(X_test_torch), axis=1).detach().cpu().numpy()\n",
    "    y_true = y_test_torch.detach().cpu().numpy()\n",
    "    print(classification_report(y_true, y_pred))\n"
   ],
   "outputs": [],
   "execution_count": 36
  },
  {
   "cell_type": "code",
   "metadata": {
    "ExecuteTime": {
     "end_time": "2025-03-27T08:25:17.571407Z",
     "start_time": "2025-03-27T08:25:17.056428Z"
    }
   },
   "source": [
    "print(\"PyTorch Feedforward NN (Activation: ReLU, Optimizer: Adam):\")\n",
    "train_pytorch_feedforward(data['X_train'], data['X_test'], data['y_train'], data['y_test'], nn.ReLU(),\"Adam\")"
   ],
   "outputs": [
    {
     "name": "stdout",
     "output_type": "stream",
     "text": [
      "PyTorch Feedforward NN (Activation: ReLU, Optimizer: Adam):\n",
      "              precision    recall  f1-score   support\n",
      "\n",
      "           0       1.00      1.00      1.00        10\n",
      "           1       1.00      1.00      1.00         9\n",
      "           2       1.00      1.00      1.00        11\n",
      "\n",
      "    accuracy                           1.00        30\n",
      "   macro avg       1.00      1.00      1.00        30\n",
      "weighted avg       1.00      1.00      1.00        30\n",
      "\n"
     ]
    }
   ],
   "execution_count": 37
  },
  {
   "cell_type": "code",
   "metadata": {
    "ExecuteTime": {
     "end_time": "2025-03-27T08:25:17.999698Z",
     "start_time": "2025-03-27T08:25:17.603407Z"
    }
   },
   "source": [
    "print(\"PyTorch Feedforward NN (Activation: ReLU, Optimizer: SGD):\")\n",
    "train_pytorch_feedforward(data['X_train'], data['X_test'], data['y_train'], data['y_test'], nn.ReLU(),\"SGD\")"
   ],
   "outputs": [
    {
     "name": "stdout",
     "output_type": "stream",
     "text": [
      "PyTorch Feedforward NN (Activation: ReLU, Optimizer: SGD):\n",
      "              precision    recall  f1-score   support\n",
      "\n",
      "           0       1.00      0.90      0.95        10\n",
      "           1       0.75      0.67      0.71         9\n",
      "           2       0.77      0.91      0.83        11\n",
      "\n",
      "    accuracy                           0.83        30\n",
      "   macro avg       0.84      0.83      0.83        30\n",
      "weighted avg       0.84      0.83      0.83        30\n",
      "\n"
     ]
    }
   ],
   "execution_count": 38
  },
  {
   "cell_type": "code",
   "metadata": {
    "ExecuteTime": {
     "end_time": "2025-03-27T08:25:18.578241Z",
     "start_time": "2025-03-27T08:25:18.031443Z"
    }
   },
   "source": [
    "print(\"PyTorch Feedforward NN (Activation: Sigmoid, Optimizer: Adam):\")\n",
    "train_pytorch_feedforward(data['X_train'], data['X_test'], data['y_train'], data['y_test'], nn.Sigmoid(),\"Adam\")"
   ],
   "outputs": [
    {
     "name": "stdout",
     "output_type": "stream",
     "text": [
      "PyTorch Feedforward NN (Activation: Sigmoid, Optimizer: Adam):\n",
      "              precision    recall  f1-score   support\n",
      "\n",
      "           0       1.00      1.00      1.00        10\n",
      "           1       0.88      0.78      0.82         9\n",
      "           2       0.83      0.91      0.87        11\n",
      "\n",
      "    accuracy                           0.90        30\n",
      "   macro avg       0.90      0.90      0.90        30\n",
      "weighted avg       0.90      0.90      0.90        30\n",
      "\n"
     ]
    }
   ],
   "execution_count": 39
  },
  {
   "cell_type": "code",
   "metadata": {
    "ExecuteTime": {
     "end_time": "2025-03-27T08:25:19.090287Z",
     "start_time": "2025-03-27T08:25:18.644043Z"
    }
   },
   "source": [
    "print(\"PyTorch Feedforward NN (Activation: Sigmoid, Optimizer: SGD):\")\n",
    "train_pytorch_feedforward(data['X_train'], data['X_test'], data['y_train'], data['y_test'], nn.Sigmoid(),\"SGD\")"
   ],
   "outputs": [
    {
     "name": "stdout",
     "output_type": "stream",
     "text": [
      "PyTorch Feedforward NN (Activation: Sigmoid, Optimizer: SGD):\n",
      "              precision    recall  f1-score   support\n",
      "\n",
      "           0       0.90      0.90      0.90        10\n",
      "           1       0.60      0.33      0.43         9\n",
      "           2       0.60      0.82      0.69        11\n",
      "\n",
      "    accuracy                           0.70        30\n",
      "   macro avg       0.70      0.68      0.67        30\n",
      "weighted avg       0.70      0.70      0.68        30\n",
      "\n"
     ]
    }
   ],
   "execution_count": 40
  },
  {
   "cell_type": "code",
   "metadata": {
    "ExecuteTime": {
     "end_time": "2025-03-27T08:25:19.668593Z",
     "start_time": "2025-03-27T08:25:19.137353Z"
    }
   },
   "source": [
    "print(\"PyTorch Feedforward NN (Activation: Tanh, Optimizer: Adam):\")\n",
    "train_pytorch_feedforward(data['X_train'], data['X_test'], data['y_train'], data['y_test'], nn.Tanh(),\"Adam\")"
   ],
   "outputs": [
    {
     "name": "stdout",
     "output_type": "stream",
     "text": [
      "PyTorch Feedforward NN (Activation: Tanh, Optimizer: Adam):\n",
      "              precision    recall  f1-score   support\n",
      "\n",
      "           0       1.00      1.00      1.00        10\n",
      "           1       1.00      0.89      0.94         9\n",
      "           2       0.92      1.00      0.96        11\n",
      "\n",
      "    accuracy                           0.97        30\n",
      "   macro avg       0.97      0.96      0.97        30\n",
      "weighted avg       0.97      0.97      0.97        30\n",
      "\n"
     ]
    }
   ],
   "execution_count": 41
  },
  {
   "cell_type": "code",
   "metadata": {
    "ExecuteTime": {
     "end_time": "2025-03-27T08:25:20.129974Z",
     "start_time": "2025-03-27T08:25:19.700212Z"
    }
   },
   "source": [
    "print(\"PyTorch Feedforward NN (Activation: Tanh, Optimizer: SGD):\")\n",
    "train_pytorch_feedforward(data['X_train'], data['X_test'], data['y_train'], data['y_test'], nn.Tanh(),\"SGD\")"
   ],
   "outputs": [
    {
     "name": "stdout",
     "output_type": "stream",
     "text": [
      "PyTorch Feedforward NN (Activation: Tanh, Optimizer: SGD):\n",
      "              precision    recall  f1-score   support\n",
      "\n",
      "           0       1.00      1.00      1.00        10\n",
      "           1       1.00      0.89      0.94         9\n",
      "           2       0.92      1.00      0.96        11\n",
      "\n",
      "    accuracy                           0.97        30\n",
      "   macro avg       0.97      0.96      0.97        30\n",
      "weighted avg       0.97      0.97      0.97        30\n",
      "\n"
     ]
    }
   ],
   "execution_count": 42
  },
  {
   "metadata": {},
   "cell_type": "markdown",
   "source": [
    "# Summary\n",
    "## 1) What’s the difference between perceptron and feedforward network?\n",
    "A perceptron is a simple binary classifier that can only handle linearly separable data.\n",
    "A feedforward neural network has multiple layers, uses non-linear activation functions, and can learn complex patterns in data.\n",
    "\n",
    "## 2) Sklearn, Keras, and PyTorch – which is the best?\n",
    "It depends on the specific use case and requirements.\n",
    "Scikit-learn is great for traditional machine learning tasks and has a wide range of algorithms.\n",
    "Keras is user-friendly and designed for quick prototyping of neural networks.\n",
    "PyTorch is more flexible and widely used in research and production settings.\n",
    "\n",
    "## 3) Which optimizers were used and why?\n",
    "Adam and SGD optimizers were used in the PyTorch implementation.\n",
    "Adam - Fast and adaptive, but can get stuck in suboptimal solutions\n",
    "SGD - Slower, but can generalize better\n",
    "\n"
   ]
  }
 ],
 "metadata": {
  "colab": {
   "provenance": []
  },
  "kernelspec": {
   "display_name": "Python 3 (ipykernel)",
   "language": "python",
   "name": "python3"
  },
  "language_info": {
   "codemirror_mode": {
    "name": "ipython",
    "version": 3
   },
   "file_extension": ".py",
   "mimetype": "text/x-python",
   "name": "python",
   "nbconvert_exporter": "python",
   "pygments_lexer": "ipython3",
   "version": "3.10.11"
  }
 },
 "nbformat": 4,
 "nbformat_minor": 4
}
