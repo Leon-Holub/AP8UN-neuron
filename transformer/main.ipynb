{
 "cells": [
  {
   "cell_type": "code",
   "id": "initial_id",
   "metadata": {
    "collapsed": true,
    "ExecuteTime": {
     "end_time": "2025-04-16T08:00:17.790569Z",
     "start_time": "2025-04-16T08:00:15.923419Z"
    }
   },
   "source": [
    "!pip install --upgrade tensorflow-datasets  # upgrade tfds to latest version\n",
    "\n",
    "import tensorflow_datasets as tfds\n",
    "# from tensorflow_datasets.core import BeamOptions  # BeamOptions is not directly accessible here anymore\n",
    "# from tensorflow_datasets.core.utils.beam_utils import BeamOptions  # Import BeamOptions from beam_utils\n",
    "from tensorflow_datasets.core.download import DownloadConfig # BeamOptions has moved here in newer versions\n",
    "\n",
    "# BeamOptions has been replaced with DownloadConfig.\n",
    "# You will need to adjust the parameters accordingly if using DownloadConfig\n",
    "download_config = DownloadConfig(\n",
    "    beam_runner='DirectRunner',  # Use DirectRunner\n",
    "    # ... other download configurations\n",
    ")\n",
    "\n",
    "try:\n",
    "  ds = tfds.load(\n",
    "      'wiki_dialog',\n",
    "      split='train',\n",
    "      download_and_prepare_kwargs={'download_config': download_config},  # Pass DownloadConfig\n",
    "      download=True,  # download the data on first time\n",
    "  )\n",
    "  print(\"Dataset 'wiki_dialog' loaded successfully.\")\n",
    "except tfds.core.DatasetNotFoundError:\n",
    "  print(\"'wiki_dialog' not found. Downloading...\")\n",
    "  ds = tfds.load('wiki_dialog', split='train', download=True)\n",
    "  print(\"Dataset 'wiki_dialog' downloaded and loaded successfully.\")\n",
    "except Exception as e:\n",
    "  print(f\"An error occurred: {e}\")"
   ],
   "outputs": [
    {
     "name": "stderr",
     "output_type": "stream",
     "text": [
      "ERROR: Invalid requirement: '#': Expected package name at the start of dependency specifier\n",
      "    #\n",
      "    ^\n",
      "WARNING:absl:Variant folder C:\\Users\\leonh\\tensorflow_datasets\\wiki_dialog\\OQ\\1.0.0 has no dataset_info.json\n"
     ]
    },
    {
     "name": "stdout",
     "output_type": "stream",
     "text": [
      "\u001B[1mDownloading and preparing dataset Unknown size (download: Unknown size, generated: Unknown size, total: Unknown size) to C:\\Users\\leonh\\tensorflow_datasets\\wiki_dialog\\OQ\\1.0.0...\u001B[0m\n"
     ]
    },
    {
     "name": "stderr",
     "output_type": "stream",
     "text": [
      "Dl Completed...: 0 url [00:00, ? url/s]\n",
      "Dl Completed...:   0%|          | 0/1 [00:00<?, ? url/s]\n",
      "Dl Completed...:   0%|          | 0/2 [00:00<?, ? url/s]\n",
      "Dl Completed...:   0%|          | 0/3 [00:00<?, ? url/s]\n",
      "Dl Completed...:   0%|          | 0/4 [00:00<?, ? url/s]\n",
      "Dl Completed...:   0%|          | 0/5 [00:00<?, ? url/s]\n",
      "Dl Completed...:   0%|          | 0/6 [00:00<?, ? url/s]\n",
      "Dl Completed...:   0%|          | 0/7 [00:00<?, ? url/s]\n",
      "Dl Completed...:   0%|          | 0/8 [00:00<?, ? url/s]\n",
      "Dl Completed...:   0%|          | 0/9 [00:00<?, ? url/s]\n",
      "Dl Completed...:   0%|          | 0/10 [00:00<?, ? url/s]\n",
      "Dl Completed...:   0%|          | 0/11 [00:00<?, ? url/s]\n",
      "Dl Completed...:   0%|          | 0/12 [00:00<?, ? url/s]\n",
      "Dl Completed...:   0%|          | 0/13 [00:00<?, ? url/s]\n",
      "Dl Completed...:   0%|          | 0/14 [00:00<?, ? url/s]\n",
      "Dl Completed...:   0%|          | 0/15 [00:00<?, ? url/s]\n",
      "Dl Completed...:   0%|          | 0/16 [00:00<?, ? url/s]\n",
      "Dl Completed...:   0%|          | 0/17 [00:00<?, ? url/s]\n",
      "Dl Completed...:   0%|          | 0/18 [00:00<?, ? url/s]\n",
      "Dl Completed...:   0%|          | 0/19 [00:00<?, ? url/s]\n",
      "Dl Completed...:   0%|          | 0/20 [00:00<?, ? url/s]\n",
      "Dl Completed...:   0%|          | 0/21 [00:00<?, ? url/s]\n",
      "Dl Completed...:   0%|          | 0/22 [00:00<?, ? url/s]\n",
      "Dl Completed...:   0%|          | 0/23 [00:00<?, ? url/s]\n",
      "Dl Completed...:   0%|          | 0/24 [00:00<?, ? url/s]\n",
      "Dl Completed...:   0%|          | 0/25 [00:00<?, ? url/s]\n",
      "Dl Completed...:   0%|          | 0/26 [00:00<?, ? url/s]\n",
      "Dl Completed...:   0%|          | 0/27 [00:00<?, ? url/s]\n",
      "Dl Completed...:   0%|          | 0/28 [00:00<?, ? url/s]\n",
      "Dl Completed...:   0%|          | 0/29 [00:00<?, ? url/s]\n",
      "Dl Completed...:   0%|          | 0/30 [00:00<?, ? url/s]\n",
      "Dl Completed...:   0%|          | 0/31 [00:00<?, ? url/s]\n",
      "Dl Completed...:   0%|          | 0/32 [00:00<?, ? url/s]\n",
      "Dl Completed...:   0%|          | 0/33 [00:00<?, ? url/s]\n",
      "Dl Completed...:   0%|          | 0/34 [00:00<?, ? url/s]\n",
      "Dl Completed...:   0%|          | 0/35 [00:00<?, ? url/s]\n",
      "Dl Completed...:   0%|          | 0/36 [00:00<?, ? url/s]\n",
      "Dl Completed...:   0%|          | 0/37 [00:00<?, ? url/s]\n",
      "Dl Completed...:   0%|          | 0/38 [00:00<?, ? url/s]\n",
      "Dl Completed...:   0%|          | 0/39 [00:00<?, ? url/s]\n",
      "Dl Completed...:   0%|          | 0/40 [00:00<?, ? url/s]\n",
      "Dl Completed...:   0%|          | 0/41 [00:00<?, ? url/s]\n",
      "Dl Completed...:   0%|          | 0/42 [00:00<?, ? url/s]\n",
      "Dl Completed...:   0%|          | 0/43 [00:00<?, ? url/s]\n",
      "Dl Completed...:   0%|          | 0/44 [00:00<?, ? url/s]\n",
      "Dl Completed...:   0%|          | 0/45 [00:00<?, ? url/s]\n",
      "Dl Completed...:   0%|          | 0/46 [00:00<?, ? url/s]\n",
      "Dl Completed...:   0%|          | 0/47 [00:00<?, ? url/s]\n",
      "Dl Completed...:   0%|          | 0/48 [00:00<?, ? url/s]\n",
      "Dl Completed...:   0%|          | 0/49 [00:00<?, ? url/s]\n",
      "Dl Completed...:   0%|          | 0/50 [00:00<?, ? url/s]\n",
      "Dl Completed...:   0%|          | 0/51 [00:00<?, ? url/s]\n",
      "Dl Completed...:   0%|          | 0/52 [00:00<?, ? url/s]\n",
      "Dl Completed...:   0%|          | 0/53 [00:00<?, ? url/s]\n",
      "Dl Completed...:   0%|          | 0/54 [00:00<?, ? url/s]\n",
      "Dl Completed...:   0%|          | 0/55 [00:00<?, ? url/s]\n",
      "Dl Completed...:   0%|          | 0/56 [00:00<?, ? url/s]\n",
      "Dl Completed...:   0%|          | 0/57 [00:00<?, ? url/s]\n",
      "Dl Completed...:   0%|          | 0/58 [00:00<?, ? url/s]\n",
      "Dl Completed...:   0%|          | 0/59 [00:00<?, ? url/s]\n",
      "Dl Completed...:   0%|          | 0/60 [00:00<?, ? url/s]\n",
      "Dl Completed...:   0%|          | 0/61 [00:00<?, ? url/s]\n",
      "Dl Completed...:   0%|          | 0/62 [00:00<?, ? url/s]\n",
      "Dl Completed...:   0%|          | 0/63 [00:00<?, ? url/s]\n",
      "Dl Completed...:   0%|          | 0/64 [00:00<?, ? url/s]\n",
      "Dl Completed...:   0%|          | 0/65 [00:00<?, ? url/s]\n",
      "Dl Completed...:   0%|          | 0/66 [00:00<?, ? url/s]\n",
      "Dl Completed...:   0%|          | 0/67 [00:00<?, ? url/s]\n",
      "Dl Completed...:   0%|          | 0/68 [00:00<?, ? url/s]\n",
      "Dl Completed...:   0%|          | 0/69 [00:00<?, ? url/s]\n",
      "Dl Completed...:   0%|          | 0/70 [00:00<?, ? url/s]\n",
      "Dl Completed...:   0%|          | 0/71 [00:00<?, ? url/s]\n",
      "Dl Completed...:   0%|          | 0/72 [00:00<?, ? url/s]\n",
      "Dl Completed...:   0%|          | 0/73 [00:00<?, ? url/s]\n",
      "Dl Completed...:   0%|          | 0/74 [00:00<?, ? url/s]\n",
      "Dl Completed...:   0%|          | 0/75 [00:00<?, ? url/s]\n",
      "Dl Completed...:   0%|          | 0/76 [00:00<?, ? url/s]\n",
      "Dl Completed...:   0%|          | 0/77 [00:00<?, ? url/s]\n",
      "Dl Completed...:   0%|          | 0/78 [00:00<?, ? url/s]\n",
      "Dl Completed...:   0%|          | 0/79 [00:00<?, ? url/s]\n",
      "Dl Completed...:   0%|          | 0/80 [00:00<?, ? url/s]\n",
      "Dl Completed...:   0%|          | 0/81 [00:00<?, ? url/s]\n",
      "Dl Completed...:   0%|          | 0/82 [00:00<?, ? url/s]\n",
      "Dl Completed...:   0%|          | 0/83 [00:00<?, ? url/s]\n",
      "Dl Completed...:   0%|          | 0/84 [00:00<?, ? url/s]\n",
      "Dl Completed...:   0%|          | 0/85 [00:00<?, ? url/s]\n",
      "Dl Completed...:   0%|          | 0/86 [00:00<?, ? url/s]\n",
      "Dl Completed...:   0%|          | 0/87 [00:00<?, ? url/s]\n",
      "Dl Completed...:   0%|          | 0/88 [00:00<?, ? url/s]\n",
      "Dl Completed...:   0%|          | 0/89 [00:01<?, ? url/s]\n",
      "Dl Completed...:   0%|          | 0/90 [00:01<?, ? url/s]\n",
      "Dl Completed...:   0%|          | 0/91 [00:01<?, ? url/s]\n",
      "Dl Completed...:   0%|          | 0/92 [00:01<?, ? url/s]\n",
      "Dl Completed...:   0%|          | 0/93 [00:01<?, ? url/s]\n",
      "Dl Completed...:   0%|          | 0/94 [00:01<?, ? url/s]\n",
      "Dl Completed...:   0%|          | 0/95 [00:01<?, ? url/s]\n",
      "Dl Completed...:   0%|          | 0/96 [00:01<?, ? url/s]\n",
      "Dl Completed...:   0%|          | 0/97 [00:01<?, ? url/s]\n",
      "Dl Completed...:   0%|          | 0/98 [00:01<?, ? url/s]\n",
      "Dl Completed...:   0%|          | 0/99 [00:01<?, ? url/s]\n",
      "Dl Completed...:   0%|          | 0/100 [00:01<?, ? url/s]\n",
      "Dl Size...: 0 MiB [00:01, ? MiB/s]\u001B[A\n",
      "Dl Completed...:   0%|          | 0/100 [00:01<?, ? url/s]"
     ]
    },
    {
     "name": "stdout",
     "output_type": "stream",
     "text": [
      "An error occurred: Failed to get url https://storage.googleapis.com/gresearch/dialog-inpainting/WikiDialog_OQ%5Cdata_train.jsonl-00000-of-00099.gz. HTTP code: 404.\n"
     ]
    },
    {
     "name": "stderr",
     "output_type": "stream",
     "text": [
      "\n"
     ]
    }
   ],
   "execution_count": 6
  }
 ],
 "metadata": {
  "kernelspec": {
   "display_name": "Python 3",
   "language": "python",
   "name": "python3"
  },
  "language_info": {
   "codemirror_mode": {
    "name": "ipython",
    "version": 2
   },
   "file_extension": ".py",
   "mimetype": "text/x-python",
   "name": "python",
   "nbconvert_exporter": "python",
   "pygments_lexer": "ipython2",
   "version": "2.7.6"
  }
 },
 "nbformat": 4,
 "nbformat_minor": 5
}
