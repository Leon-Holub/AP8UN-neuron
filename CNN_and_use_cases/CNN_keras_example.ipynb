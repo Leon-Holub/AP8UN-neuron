{
 "nbformat": 4,
 "nbformat_minor": 0,
 "metadata": {
  "colab": {
   "provenance": [],
   "gpuType": "T4"
  },
  "kernelspec": {
   "name": "python3",
   "display_name": "Python 3 (ipykernel)",
   "language": "python"
  },
  "language_info": {
   "name": "python"
  },
  "accelerator": "GPU"
 },
 "cells": [
  {
   "cell_type": "markdown",
   "source": [
    "import libs"
   ],
   "metadata": {
    "id": "kL9DP63frqri"
   }
  },
  {
   "cell_type": "code",
   "metadata": {
    "id": "siZoVfIIrg34",
    "ExecuteTime": {
     "end_time": "2025-04-03T13:35:53.160626Z",
     "start_time": "2025-04-03T13:35:53.142765Z"
    }
   },
   "source": [
    "import tensorflow as tf\n",
    "import numpy as np\n",
    "import matplotlib.pyplot as plt\n",
    "from keras import Sequential"
   ],
   "outputs": [],
   "execution_count": 9
  },
  {
   "cell_type": "code",
   "source": [
    "# def get_strategy():\n",
    "#   # Detect hardware and configure parallel compute\n",
    "#   try:\n",
    "#       # Try to detect TPU\n",
    "#       resolver = tf.distribute.cluster_resolver.TPUClusterResolver()\n",
    "#       tf.config.experimental_connect_to_cluster(resolver)\n",
    "#       tf.tpu.experimental.initialize_tpu_system(resolver)\n",
    "#       strategy = tf.distribute.TPUStrategy(resolver)\n",
    "#       print(\"TPU detected. Using TPU for parallel computation.\")\n",
    "#   except ValueError:\n",
    "#       # If no TPU is found, check for GPU\n",
    "#       if tf.config.list_physical_devices('GPU'):\n",
    "#           print(\"No TPU detected. GPU detected. Using GPU for parallel computation.\")\n",
    "#           strategy = tf.distribute.MirroredStrategy()\n",
    "#       else:\n",
    "#           # If no GPU is found, fall back to CPU\n",
    "#           print(\"No TPU or GPU detected. Using CPU for parallel computation.\")\n",
    "#           strategy = tf.distribute.MultiWorkerMirroredStrategy()\n",
    "#   return strategy\n",
    "# strategy = get_strategy()"
   ],
   "metadata": {
    "id": "ugUwhwEB9qPn",
    "ExecuteTime": {
     "end_time": "2025-04-03T13:35:53.176645Z",
     "start_time": "2025-04-03T13:35:53.160626Z"
    }
   },
   "outputs": [],
   "execution_count": 10
  },
  {
   "cell_type": "markdown",
   "source": [
    "Enable GPU parallel processing"
   ],
   "metadata": {
    "id": "NRNchsxhsUvR"
   }
  },
  {
   "cell_type": "code",
   "source": [
    "strategy = tf.distribute.MirroredStrategy()\n",
    "print(f'Number of devices: {strategy.num_replicas_in_sync}')"
   ],
   "metadata": {
    "colab": {
     "base_uri": "https://localhost:8080/"
    },
    "id": "uq3HiqjisZ_Z",
    "outputId": "6ec365ec-72bc-4943-e3d3-0fb5c61179e1",
    "ExecuteTime": {
     "end_time": "2025-04-03T13:35:53.208282Z",
     "start_time": "2025-04-03T13:35:53.192490Z"
    }
   },
   "outputs": [
    {
     "name": "stdout",
     "output_type": "stream",
     "text": [
      "INFO:tensorflow:Using MirroredStrategy with devices ('/job:localhost/replica:0/task:0/device:CPU:0',)\n",
      "Number of devices: 1\n"
     ]
    }
   ],
   "execution_count": 11
  },
  {
   "cell_type": "markdown",
   "source": [
    "load dataset"
   ],
   "metadata": {
    "id": "-imo-zMNtp9s"
   }
  },
  {
   "cell_type": "code",
   "source": [
    "from keras.src.datasets import mnist\n",
    "\n",
    "(x_train, y_train), (x_test, y_test) = mnist.load_data()\n",
    "plt.figure(figsize=(10,5))\n",
    "for i in range(5):\n",
    "    plt.subplot(1,5,i+1)\n",
    "    plt.imshow(x_train[i], cmap='gray')\n",
    "    plt.title(y_train[i])\n",
    "    plt.axis('off')\n",
    "plt.tight_layout()\n",
    "plt.show()"
   ],
   "metadata": {
    "colab": {
     "base_uri": "https://localhost:8080/",
     "height": 276
    },
    "id": "uNkGDso9ttAr",
    "outputId": "e49b864b-fbda-41bf-cb70-3fc99390744f",
    "ExecuteTime": {
     "end_time": "2025-04-03T13:35:53.736298Z",
     "start_time": "2025-04-03T13:35:53.224248Z"
    }
   },
   "outputs": [
    {
     "data": {
      "text/plain": [
       "<Figure size 1000x500 with 5 Axes>"
      ],
      "image/png": "[encoded data removed]"
     },
     "metadata": {},
     "output_type": "display_data"
    }
   ],
   "execution_count": 12
  },
  {
   "cell_type": "markdown",
   "source": [
    "Normalize, reshape to 28*28*1, one hot labeling the 10 classes"
   ],
   "metadata": {
    "id": "ILHDgzKPulId"
   }
  },
  {
   "cell_type": "code",
   "source": [
    "from keras.src.utils import to_categorical\n",
    "\n",
    "x_train,x_test=x_train/255.0,x_test/255.0 # normalize\n",
    "print(x_train.shape)\n",
    "print(y_train)\n",
    "x_train=x_train.reshape(-1,28,28,1) # reshape\n",
    "x_test=x_test.reshape(-1,28,28,1)\n",
    "y_train=to_categorical(y_train,10) # one hot labeling\n",
    "y_test=to_categorical(y_test,10)\n",
    "print(x_train.shape)\n",
    "print(y_train)"
   ],
   "metadata": {
    "colab": {
     "base_uri": "https://localhost:8080/"
    },
    "id": "pr48ctRqu3Zv",
    "outputId": "02e44464-e4a2-4cbf-c6bd-3b8e6d7a1c1b",
    "ExecuteTime": {
     "end_time": "2025-04-03T13:35:53.946090Z",
     "start_time": "2025-04-03T13:35:53.752434Z"
    }
   },
   "outputs": [
    {
     "name": "stdout",
     "output_type": "stream",
     "text": [
      "(60000, 28, 28)\n",
      "[5 0 4 ... 5 6 8]\n",
      "(60000, 28, 28, 1)\n",
      "[[0. 0. 0. ... 0. 0. 0.]\n",
      " [1. 0. 0. ... 0. 0. 0.]\n",
      " [0. 0. 0. ... 0. 0. 0.]\n",
      " ...\n",
      " [0. 0. 0. ... 0. 0. 0.]\n",
      " [0. 0. 0. ... 0. 0. 0.]\n",
      " [0. 0. 0. ... 0. 1. 0.]]\n"
     ]
    }
   ],
   "execution_count": 13
  },
  {
   "cell_type": "markdown",
   "source": [
    "Build CNN inside the stratege scope"
   ],
   "metadata": {
    "id": "nHznmwGfw6pP"
   }
  },
  {
   "cell_type": "code",
   "source": [
    "from keras.src.layers import Conv2D, MaxPooling2D, Flatten, Dense\n",
    "\n",
    "with strategy.scope():\n",
    "    model=Sequential([\n",
    "        Conv2D(32,(3,3),activation='relu', padding='same', input_shape=(28,28,1)), # strides=(2,2)\n",
    "        MaxPooling2D((2,2)),\n",
    "        Conv2D(64,(3,3),activation='relu', padding='same'),\n",
    "        MaxPooling2D((2,2)),\n",
    "        Flatten(),\n",
    "        Dense(128,activation='relu'),\n",
    "        Dense(10,activation='softmax')\n",
    "    ])\n",
    "    model.compile(optimizer='adam',loss='categorical_crossentropy',metrics=['accuracy'])"
   ],
   "metadata": {
    "colab": {
     "base_uri": "https://localhost:8080/"
    },
    "id": "75GX80EgukqV",
    "outputId": "be09da96-eb2f-41ad-d1bf-6d22c9a29d7c",
    "ExecuteTime": {
     "end_time": "2025-04-03T13:35:54.069494Z",
     "start_time": "2025-04-03T13:35:53.993575Z"
    }
   },
   "outputs": [],
   "execution_count": 14
  },
  {
   "cell_type": "markdown",
   "source": [
    "Train model"
   ],
   "metadata": {
    "id": "rr1b3tVn5a1C"
   }
  },
  {
   "cell_type": "code",
   "source": [
    "model.fit(x_train,y_train,epochs=10,batch_size=128,validation_data=(x_test,y_test))"
   ],
   "metadata": {
    "colab": {
     "base_uri": "https://localhost:8080/"
    },
    "id": "84UrjpRG5eii",
    "outputId": "71a63722-ba3a-49f5-c09b-98e02ed74814",
    "ExecuteTime": {
     "end_time": "2025-04-03T13:37:43.956615Z",
     "start_time": "2025-04-03T13:35:54.087454Z"
    }
   },
   "outputs": [
    {
     "name": "stdout",
     "output_type": "stream",
     "text": [
      "Epoch 1/10\n",
      "\u001B[1m469/469\u001B[0m \u001B[32m━━━━━━━━━━━━━━━━━━━━\u001B[0m\u001B[37m\u001B[0m \u001B[1m11s\u001B[0m 22ms/step - accuracy: 0.8718 - loss: 0.4368 - val_accuracy: 0.9822 - val_loss: 0.0546\n",
      "Epoch 2/10\n",
      "\u001B[1m469/469\u001B[0m \u001B[32m━━━━━━━━━━━━━━━━━━━━\u001B[0m\u001B[37m\u001B[0m \u001B[1m11s\u001B[0m 23ms/step - accuracy: 0.9818 - loss: 0.0576 - val_accuracy: 0.9876 - val_loss: 0.0359\n",
      "Epoch 3/10\n",
      "\u001B[1m469/469\u001B[0m \u001B[32m━━━━━━━━━━━━━━━━━━━━\u001B[0m\u001B[37m\u001B[0m \u001B[1m11s\u001B[0m 22ms/step - accuracy: 0.9888 - loss: 0.0371 - val_accuracy: 0.9888 - val_loss: 0.0354\n",
      "Epoch 4/10\n",
      "\u001B[1m469/469\u001B[0m \u001B[32m━━━━━━━━━━━━━━━━━━━━\u001B[0m\u001B[37m\u001B[0m \u001B[1m10s\u001B[0m 21ms/step - accuracy: 0.9920 - loss: 0.0251 - val_accuracy: 0.9903 - val_loss: 0.0265\n",
      "Epoch 5/10\n",
      "\u001B[1m469/469\u001B[0m \u001B[32m━━━━━━━━━━━━━━━━━━━━\u001B[0m\u001B[37m\u001B[0m \u001B[1m10s\u001B[0m 21ms/step - accuracy: 0.9943 - loss: 0.0181 - val_accuracy: 0.9894 - val_loss: 0.0323\n",
      "Epoch 6/10\n",
      "\u001B[1m469/469\u001B[0m \u001B[32m━━━━━━━━━━━━━━━━━━━━\u001B[0m\u001B[37m\u001B[0m \u001B[1m11s\u001B[0m 23ms/step - accuracy: 0.9947 - loss: 0.0167 - val_accuracy: 0.9885 - val_loss: 0.0357\n",
      "Epoch 7/10\n",
      "\u001B[1m469/469\u001B[0m \u001B[32m━━━━━━━━━━━━━━━━━━━━\u001B[0m\u001B[37m\u001B[0m \u001B[1m11s\u001B[0m 23ms/step - accuracy: 0.9955 - loss: 0.0134 - val_accuracy: 0.9912 - val_loss: 0.0294\n",
      "Epoch 8/10\n",
      "\u001B[1m469/469\u001B[0m \u001B[32m━━━━━━━━━━━━━━━━━━━━\u001B[0m\u001B[37m\u001B[0m \u001B[1m12s\u001B[0m 25ms/step - accuracy: 0.9971 - loss: 0.0086 - val_accuracy: 0.9905 - val_loss: 0.0287\n",
      "Epoch 9/10\n",
      "\u001B[1m469/469\u001B[0m \u001B[32m━━━━━━━━━━━━━━━━━━━━\u001B[0m\u001B[37m\u001B[0m \u001B[1m12s\u001B[0m 24ms/step - accuracy: 0.9971 - loss: 0.0087 - val_accuracy: 0.9914 - val_loss: 0.0312\n",
      "Epoch 10/10\n",
      "\u001B[1m469/469\u001B[0m \u001B[32m━━━━━━━━━━━━━━━━━━━━\u001B[0m\u001B[37m\u001B[0m \u001B[1m12s\u001B[0m 25ms/step - accuracy: 0.9976 - loss: 0.0071 - val_accuracy: 0.9908 - val_loss: 0.0313\n"
     ]
    },
    {
     "data": {
      "text/plain": [
       "<keras.src.callbacks.history.History at 0x1afced51fc0>"
      ]
     },
     "execution_count": 15,
     "metadata": {},
     "output_type": "execute_result"
    }
   ],
   "execution_count": 15
  },
  {
   "cell_type": "markdown",
   "source": [
    "Evaluate model"
   ],
   "metadata": {
    "id": "ykaWA5DA6vCf"
   }
  },
  {
   "cell_type": "code",
   "source": [
    "loss, accuracy=model.evaluate(x_test,y_test)\n",
    "print(f'Test loss: {loss}')\n",
    "print(f'Test accuracy: {accuracy}')"
   ],
   "metadata": {
    "colab": {
     "base_uri": "https://localhost:8080/"
    },
    "id": "itHFRERw6zH3",
    "outputId": "71cdcb51-d72b-4e34-87f3-592f9102a5d2",
    "ExecuteTime": {
     "end_time": "2025-04-03T13:38:02.404882Z",
     "start_time": "2025-04-03T13:38:00.745463Z"
    }
   },
   "outputs": [
    {
     "name": "stdout",
     "output_type": "stream",
     "text": [
      "\u001B[1m313/313\u001B[0m \u001B[32m━━━━━━━━━━━━━━━━━━━━\u001B[0m\u001B[37m\u001B[0m \u001B[1m1s\u001B[0m 4ms/step - accuracy: 0.9888 - loss: 0.0358\n",
      "Test loss: 0.031265173107385635\n",
      "Test accuracy: 0.9908000230789185\n"
     ]
    }
   ],
   "execution_count": 16
  }
 ]
}
